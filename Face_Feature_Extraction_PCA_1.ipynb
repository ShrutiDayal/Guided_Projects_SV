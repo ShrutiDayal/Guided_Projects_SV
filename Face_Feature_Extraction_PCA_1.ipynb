{
 "cells": [
  {
   "cell_type": "code",
   "execution_count": 2,
   "metadata": {},
   "outputs": [],
   "source": [
    "from sklearn.datasets import fetch_lfw_people\n",
    "from sklearn.decomposition import PCA\n",
    "from sklearn.model_selection import train_test_split\n",
    "\n",
    "import matplotlib.pyplot as plt  \n",
    "import numpy as np"
   ]
  },
  {
   "cell_type": "code",
   "execution_count": 6,
   "metadata": {},
   "outputs": [
    {
     "name": "stdout",
     "output_type": "stream",
     "text": [
      "(1217, 1850)\n"
     ]
    }
   ],
   "source": [
    "lfw_people = fetch_lfw_people(min_faces_per_person = 70, resize = 0.4)\n",
    "X= lfw_people.data\n",
    "y=lfw_people.target\n",
    "print(X.shape)"
   ]
  },
  {
   "cell_type": "code",
   "execution_count": 8,
   "metadata": {},
   "outputs": [
    {
     "name": "stdout",
     "output_type": "stream",
     "text": [
      "(1217, 1217)\n"
     ]
    }
   ],
   "source": [
    "pca=PCA(n_components=120)\n",
    "X_transformed=pca.fit_transform(X)\n",
    "print(X_transformed.shape)"
   ]
  },
  {
   "cell_type": "code",
   "execution_count": 22,
   "metadata": {},
   "outputs": [
    {
     "name": "stdout",
     "output_type": "stream",
     "text": [
      "Sample Data point after applying PCA\n",
      " [ 3.7440930e+02  2.5510118e+02 -3.1287891e+02 ... -4.4360872e-02\n",
      "  9.2151381e-02  1.7498368e-03]\n"
     ]
    }
   ],
   "source": [
    "print(\"Sample Data point after applying PCA\\n\", X_transformed[0])"
   ]
  },
  {
   "cell_type": "code",
   "execution_count": 14,
   "metadata": {},
   "outputs": [
    {
     "name": "stdout",
     "output_type": "stream",
     "text": [
      "1217 1850\n"
     ]
    }
   ],
   "source": [
    "n_samples, h, w = lfw_people.images.shape\n",
    "n_features = X.shape[1]\n",
    "print(n_samples,n_features)"
   ]
  },
  {
   "cell_type": "code",
   "execution_count": 13,
   "metadata": {},
   "outputs": [
    {
     "name": "stdout",
     "output_type": "stream",
     "text": [
      "6\n"
     ]
    }
   ],
   "source": [
    "y = lfw_people.target\n",
    "target_names = lfw_people.target_names\n",
    "n_classes = target_names.shape[0]\n",
    "print(n_classes)"
   ]
  },
  {
   "cell_type": "code",
   "execution_count": 15,
   "metadata": {},
   "outputs": [
    {
     "name": "stdout",
     "output_type": "stream",
     "text": [
      "size of training Data is  973 and Testing Data is  244\n"
     ]
    }
   ],
   "source": [
    "#training and test dataset in 80:20 ratio\n",
    "X_train, X_test, y_train, y_test = train_test_split(\n",
    "    X, y, test_size = 0.2, random_state = 42)\n",
    "print(\"size of training Data is % d and Testing Data is % d\" %(\n",
    "        y_train.shape[0], y_test.shape[0]))"
   ]
  },
  {
   "cell_type": "code",
   "execution_count": 20,
   "metadata": {},
   "outputs": [
    {
     "name": "stdout",
     "output_type": "stream",
     "text": [
      "Projecting the input data on the eigenfaces orthonormal basis\n"
     ]
    }
   ],
   "source": [
    "n_components = 150\n",
    "pca = PCA(n_components = n_components, svd_solver ='randomized',\n",
    "          whiten = True).fit(X_train)\n",
    "  \n",
    "eigenfaces = pca.components_.reshape((n_components, h, w))\n",
    "  \n",
    "print(\"Projecting the input data on the eigenfaces orthonormal basis\")\n",
    "X_train_pca = pca.transform(X_train)\n",
    "X_test_pca = pca.transform(X_test)\n"
   ]
  },
  {
   "cell_type": "code",
   "execution_count": 21,
   "metadata": {},
   "outputs": [
    {
     "name": "stdout",
     "output_type": "stream",
     "text": [
      "Sample Data point after applying PCA\n",
      " [-0.5740466  -2.0690143  -0.699428   -1.0362923   0.41780674  0.03138744\n",
      "  0.9916058   0.9372236  -0.3866752   0.8042529   1.0333393   0.79819316\n",
      " -2.429921   -1.3496132  -1.6950523  -1.2058272  -0.80093455  2.1303668\n",
      " -0.09062845  0.81666595 -0.71549666 -0.8950591   1.9931972   0.48998222\n",
      " -0.03029471  1.3327512  -0.38072494  0.93417186 -2.2404547  -0.25303018\n",
      " -0.64513993 -1.1009793   1.1159785  -0.6872479  -0.48680687  1.8296884\n",
      " -0.6943907  -1.6687628   0.27111924  0.7793381   1.0192261   1.1024998\n",
      "  0.98216313  1.0654263   1.1836188   0.7085212  -0.02461291  0.04698037\n",
      " -0.23592776 -0.04437794  0.0445062  -0.93655276 -1.8975313  -0.5079248\n",
      " -0.07746343  1.7109028  -0.6841248  -0.4679965  -1.608113    0.2990938\n",
      " -1.1355802   1.5346959   1.5910428  -2.0074909   0.3501817  -0.07621866\n",
      " -1.3517737  -2.1156301  -1.9972719   0.7207072  -1.1785833   0.04929023\n",
      "  0.00615785 -0.11714102  1.8057673   1.2198912  -1.4217385  -0.5023195\n",
      "  0.96247935  1.4189732  -1.1926194  -0.06931847 -0.92690027  1.4150039\n",
      "  1.3700585   0.44788083 -0.28404492 -0.88456297  1.1271415  -1.0529463\n",
      "  0.7514635  -1.0167153  -0.5313273  -0.02226319  2.474129   -1.2443935\n",
      " -0.88123417  2.2267926   0.5883813   2.2990563  -1.0966656   0.24058938\n",
      " -0.60083985 -1.4202394   0.44679245  1.334793   -0.42032778 -0.05092515\n",
      " -1.4043162   0.9679194   0.17063776 -0.5141997  -1.8212652  -0.6647803\n",
      " -1.0192376  -0.3830769  -0.27129868 -0.87694067  0.19341728 -0.06456725\n",
      " -1.7492714  -0.16200082 -0.20353886 -0.18871908  0.32914463 -0.05935449\n",
      "  0.53182375 -0.43251684 -1.4515555   0.7140612  -0.45927352 -0.5283471\n",
      " -0.16445301  0.20378464  0.26645863 -0.44059592 -0.449759   -1.0921328\n",
      " -2.805977   -0.6014709  -0.8848853  -0.59469044 -2.5394611  -2.1744313\n",
      "  0.02176012 -1.9781914   1.4604774  -0.16086398 -0.23742713  0.7799174 ]\n",
      "-----------------------------------------------------\n",
      "Dimesnsions of training set = (973, 1850) and Test Set = (244, 1850)\n"
     ]
    }
   ],
   "source": [
    "print(\"Sample Data point after applying PCA\\n\", X_train_pca[0])\n",
    "print(\"-----------------------------------------------------\")\n",
    "print(\"Dimesnsions of training set = % s and Test Set = % s\"%(\n",
    "        X_train.shape, X_test.shape))"
   ]
  },
  {
   "cell_type": "code",
   "execution_count": null,
   "metadata": {},
   "outputs": [],
   "source": []
  }
 ],
 "metadata": {
  "kernelspec": {
   "display_name": "Python 3",
   "language": "python",
   "name": "python3"
  },
  "language_info": {
   "codemirror_mode": {
    "name": "ipython",
    "version": 3
   },
   "file_extension": ".py",
   "mimetype": "text/x-python",
   "name": "python",
   "nbconvert_exporter": "python",
   "pygments_lexer": "ipython3",
   "version": "3.8.5"
  }
 },
 "nbformat": 4,
 "nbformat_minor": 4
}
