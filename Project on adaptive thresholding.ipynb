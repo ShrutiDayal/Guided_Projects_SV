{
 "cells": [
  {
   "cell_type": "code",
   "execution_count": 1,
   "metadata": {},
   "outputs": [],
   "source": [
    "import cv2"
   ]
  },
  {
   "cell_type": "code",
   "execution_count": 2,
   "metadata": {},
   "outputs": [],
   "source": [
    "# Read color Image\n",
    "path =r'image.jpeg'\n",
    "img = cv2.imread(path)\n",
    "#print(img)"
   ]
  },
  {
   "cell_type": "code",
   "execution_count": 3,
   "metadata": {},
   "outputs": [
    {
     "name": "stdout",
     "output_type": "stream",
     "text": [
      "<class 'numpy.ndarray'>\n",
      "(186, 271, 3)\n",
      "[[255 255 255]\n",
      " [255 255 255]\n",
      " [255 255 255]\n",
      " [255 255 255]\n",
      " [255 255 255]\n",
      " [255 255 255]\n",
      " [255 255 255]\n",
      " [255 255 255]\n",
      " [254 254 254]\n",
      " [255 255 255]]\n"
     ]
    }
   ],
   "source": [
    "# Attributes of img\n",
    "#print(img)\n",
    "print(type(img))\n",
    "print(img.shape)\n",
    "print(img[0,:10])"
   ]
  },
  {
   "cell_type": "code",
   "execution_count": 4,
   "metadata": {},
   "outputs": [],
   "source": [
    "# Displaying the image\n",
    "#cv2.imshow('image', img)"
   ]
  },
  {
   "cell_type": "code",
   "execution_count": 5,
   "metadata": {},
   "outputs": [],
   "source": [
    "# Read grayscale Image\n",
    "img_gray = cv2.imread(path, 0)"
   ]
  },
  {
   "cell_type": "code",
   "execution_count": 6,
   "metadata": {},
   "outputs": [
    {
     "name": "stdout",
     "output_type": "stream",
     "text": [
      "<class 'numpy.ndarray'>\n",
      "(186, 271)\n",
      "[255 255 255 255 255 255 255 255 254 255]\n"
     ]
    }
   ],
   "source": [
    "# Attributes of grayscale img\n",
    "print(type(img_gray))\n",
    "print(img_gray.shape)\n",
    "print(img_gray[0,:10])"
   ]
  },
  {
   "cell_type": "code",
   "execution_count": 7,
   "metadata": {},
   "outputs": [],
   "source": [
    "# Canny Edge Detection\n",
    "\n",
    "#Canny Edge Detection is a popular edge detection algorithm.\n",
    "# edge = cv2.Canny(image, minVal, maxVal)\n",
    "resize_img = img\n",
    "edge= cv2.Canny(resize_img,0,255)\n",
    "def edge_change(val):\n",
    "    minv = cv2.getTrackbarPos('min:', \"Edge\")\n",
    "    maxv = cv2.getTrackbarPos('max:', \"Edge\")\n",
    "    edge= cv2.Canny(resize_img,minv,maxv)\n",
    "cv2.imshow(\"Edge\",edge)\n",
    "cv2.createTrackbar('min:', \"Edge\", 0, 255, edge_change)\n",
    "cv2.createTrackbar('max:', \"Edge\", 0, 255, edge_change)"
   ]
  },
  {
   "cell_type": "code",
   "execution_count": 8,
   "metadata": {},
   "outputs": [],
   "source": [
    "# Applying simple thresholding \n",
    "\n",
    "# ret, thres = cv2.threshold(source, thresholdValue, maxVal, thresholdingTechnique)\n",
    "gray = img_gray\n",
    "ret, thres = cv2.threshold(gray, 225, 255, cv2.THRESH_BINARY_INV)\n",
    "def thres_own(val):\n",
    "    thres = cv2.getTrackbarPos('thres:', \"Thres\")\n",
    "    thr=np.where(gray>thres,0,255).astype(\"unit8\")\n",
    "    cv2.imshow(\"Thres\",thr)\n",
    "cv2.createTrackbar('thres:', \"Thres\", 0, 255, thres_own)\n",
    "#cv2.THRESH_BINARY: If pixel intensity is greater than the set threshold, value set to 255, else set to 0 (black).\n",
    "#cv2.THRESH_BINARY_INV: Inverted or Opposite case of cv2.THRESH_BINARY."
   ]
  },
  {
   "cell_type": "code",
   "execution_count": 9,
   "metadata": {},
   "outputs": [],
   "source": [
    "# Applying adaptive thresholding \n",
    "\n",
    "# a_thres = cv2.adaptiveThreshold(source, maxVal, adaptiveMethod, thresholdType, blocksize, constant)\n",
    "# adaptive methods:  cv2.ADAPTIVE_THRESH_MEAN_C,  cv2.ADAPTIVE_THRESH_GAUSSIAN_C\n",
    "a_thres =cv2.adaptiveThreshold(gray,255,cv2.ADAPTIVE_THRESH_GAUSSIAN_C, cv2.THRESH_BINARY,9,1)\n",
    "cv2.imshow(\"Adaptive\",a_thres)"
   ]
  },
  {
   "cell_type": "code",
   "execution_count": 7,
   "metadata": {},
   "outputs": [],
   "source": [
    "import cv2\n",
    "import numpy as np\n",
    "path =r'image.jpeg'\n",
    "# load image and get dimensions\n",
    "img = cv2.imread(path)\n",
    "\n",
    "# convert to hsv\n",
    "hsv = cv2.cvtColor(img,cv2.COLOR_BGR2HSV)\n",
    "\n",
    "# threshold using inRange\n",
    "range1 = (50,0,50)\n",
    "range2 = (120,120,170)\n",
    "mask = cv2.inRange(hsv,range1,range2)\n",
    "\n",
    "# invert mask\n",
    "mask = 255 - mask\n",
    "\n",
    "# apply morphology closing and opening to mask\n",
    "kernel = cv2.getStructuringElement(cv2.MORPH_ELLIPSE, (2,2))\n",
    "mask = cv2.morphologyEx(mask, cv2.MORPH_CLOSE, kernel)\n",
    "mask = cv2.morphologyEx(mask, cv2.MORPH_OPEN, kernel)\n",
    "\n",
    "result = img.copy()\n",
    "result[mask==0] = (255,255,255)\n",
    "\n",
    "# write result to disk\n",
    "cv2.imwrite(\"fish_mask.png\", mask)\n",
    "cv2.imwrite(\"fish_with_white_background.jpg\", result)\n",
    "\n",
    "# display it\n",
    "cv2.imshow(\"mask\", mask)\n",
    "cv2.imshow(\"result\", result)\n",
    "cv2.waitKey(1)\n",
    "cv2.destroyAllWindows()"
   ]
  },
  {
   "cell_type": "code",
   "execution_count": null,
   "metadata": {},
   "outputs": [],
   "source": []
  }
 ],
 "metadata": {
  "kernelspec": {
   "display_name": "Python 3",
   "language": "python",
   "name": "python3"
  },
  "language_info": {
   "codemirror_mode": {
    "name": "ipython",
    "version": 3
   },
   "file_extension": ".py",
   "mimetype": "text/x-python",
   "name": "python",
   "nbconvert_exporter": "python",
   "pygments_lexer": "ipython3",
   "version": "3.8.5"
  }
 },
 "nbformat": 4,
 "nbformat_minor": 4
}
